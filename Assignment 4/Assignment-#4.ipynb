{
 "cells": [
  {
   "cell_type": "code",
   "execution_count": 18,
   "metadata": {},
   "outputs": [
    {
     "name": "stdout",
     "output_type": "stream",
     "text": [
      "Person Info :\n",
      "- Ali\n",
      "- Hassan\n",
      "- 30\n",
      "- Karachi\n",
      "\n",
      "\n",
      ">> Added Qulafication\n",
      "Person Info :\n",
      "- Ali\n",
      "- Hassan\n",
      "- 30\n",
      "- Karachi\n",
      "- BSC\n",
      "\n",
      "\n",
      ">> Updated Qulafication\n",
      "Person Info :\n",
      "- Ali\n",
      "- Hassan\n",
      "- 30\n",
      "- Karachi\n",
      "- MCS\n",
      "\n",
      "\n",
      ">> Updated Qulafication\n",
      "Person Info :\n",
      "- Ali\n",
      "- Hassan\n",
      "- 30\n",
      "- Karachi\n",
      "\n",
      "\n"
     ]
    }
   ],
   "source": [
    "def GetDict(data) :\n",
    "    print(\"Person Info :\")\n",
    "    for x, y in data.items():\n",
    "        print(\"-\", y)\n",
    "        \n",
    "    print(\"\\n\")\n",
    "    \n",
    "info = {\n",
    "    \"first_name\":\"Ali\",\n",
    "    \"last_name\" : \"Hassan\",\n",
    "    \"age\" : \"30\",\n",
    "    \"city\" : \"Karachi\"\n",
    "}\n",
    "\n",
    "GetDict(info)\n",
    "\n",
    "info[\"qualification\"] = \"BSC\"\n",
    "print(\">> Added Qulafication\")\n",
    "GetDict(info)\n",
    "\n",
    "print(\">> Updated Qulafication\")\n",
    "info[\"qualification\"] = \"MCS\"\n",
    "GetDict(info)\n",
    "\n",
    "print(\">> Updated Qulafication\")\n",
    "info.pop(\"qualification\")\n",
    "GetDict(info)\n"
   ]
  },
  {
   "cell_type": "code",
   "execution_count": 27,
   "metadata": {},
   "outputs": [
    {
     "name": "stdout",
     "output_type": "stream",
     "text": [
      "\n",
      "Karachi is in Pakistan.\n",
      "  It has a population of about Fast Food.\n",
      "  The Big Ban mountains are nearby.\n",
      "\n",
      "Dubai is in UAE.\n",
      "  It has a population of about Burj Khalifa.\n",
      "  The Big Ban mountains are nearby.\n",
      "\n",
      "London is in UK.\n",
      "  It has a population of about Big Ban.\n",
      "  The Big Ban mountains are nearby.\n"
     ]
    }
   ],
   "source": [
    "cities = {\n",
    "    'Karachi': {\n",
    "        'country': 'Pakistan',\n",
    "        'population': 14910352,\n",
    "        'fact': 'Fast Food',\n",
    "        },\n",
    "    'Dubai': {\n",
    "        'country': 'UAE',\n",
    "        'population': 3654686,\n",
    "        'fact': 'Burj Khalifa',\n",
    "        },\n",
    "    'London': {\n",
    "        'country': 'UK',\n",
    "        'population': 1120328,\n",
    "        'fact': 'Big Ban',\n",
    "        }\n",
    "    }\n",
    "\n",
    "for city, city_detail in cities.items() :\n",
    "    c = city_detail.get('country')\n",
    "    p = city_detail.get('population')\n",
    "    f = city_detail.get('fact')\n",
    "\n",
    "    print(\"\\n\" + city.title() + \" is in \" + c + \".\")\n",
    "    print(\"  It has a population of about \" + str(f) + \".\")\n",
    "    print(\"  The \" + m + \" mountains are nearby.\")"
   ]
  },
  {
   "cell_type": "code",
   "execution_count": 25,
   "metadata": {},
   "outputs": [
    {
     "name": "stdin",
     "output_type": "stream",
     "text": [
      "\n",
      "How old are you? (Q to quit) 12\n"
     ]
    },
    {
     "name": "stdout",
     "output_type": "stream",
     "text": [
      "Your ticket is $10\n"
     ]
    },
    {
     "name": "stdin",
     "output_type": "stream",
     "text": [
      "\n",
      "How old are you? (Q to quit) 10\n"
     ]
    },
    {
     "name": "stdout",
     "output_type": "stream",
     "text": [
      "Your ticket is $10\n"
     ]
    },
    {
     "name": "stdin",
     "output_type": "stream",
     "text": [
      "\n",
      "How old are you? (Q to quit) 3\n"
     ]
    },
    {
     "name": "stdout",
     "output_type": "stream",
     "text": [
      "Your ticket is free.\n"
     ]
    },
    {
     "name": "stdin",
     "output_type": "stream",
     "text": [
      "\n",
      "How old are you? (Q to quit) 18\n"
     ]
    },
    {
     "name": "stdout",
     "output_type": "stream",
     "text": [
      "Your ticket is $15\n"
     ]
    },
    {
     "name": "stdin",
     "output_type": "stream",
     "text": [
      "\n",
      "How old are you? (Q to quit) Q\n"
     ]
    },
    {
     "name": "stdout",
     "output_type": "stream",
     "text": [
      "\n",
      " --Goodbye\n"
     ]
    }
   ],
   "source": [
    "def AgeChecker(age) :\n",
    "    try:\n",
    "        age = int(age)\n",
    "        if age <= 3:\n",
    "             print(\"Your ticket is free.\")\n",
    "        elif age > 3 and age <= 12:\n",
    "             print(\"Your ticket is $10\")\n",
    "        elif age > 12:\n",
    "             print(\"Your ticket is $15\")\n",
    "    except:\n",
    "        print(\"Invalid entry\")\n",
    "        \n",
    "while True:\n",
    "    age = input(\"\\nHow old are you? (Q to quit)\")\n",
    "    if age.lower() == \"q\":\n",
    "        break\n",
    "    AgeChecker(age)\n",
    "    \n",
    "print(\"\\n --Goodbye\")"
   ]
  },
  {
   "cell_type": "code",
   "execution_count": 29,
   "metadata": {},
   "outputs": [
    {
     "name": "stdout",
     "output_type": "stream",
     "text": [
      "One of my favorite books is Alice in Wonderland\n"
     ]
    }
   ],
   "source": [
    "def favorite_book(book) :\n",
    "    print(\"One of my favorite books is\", book)\n",
    "    \n",
    "favorite_book(\"Alice in Wonderland\")\n"
   ]
  },
  {
   "cell_type": "code",
   "execution_count": 18,
   "metadata": {},
   "outputs": [
    {
     "name": "stdout",
     "output_type": "stream",
     "text": [
      "Hello! What is your name?\n"
     ]
    },
    {
     "name": "stdin",
     "output_type": "stream",
     "text": [
      " Ali\n"
     ]
    },
    {
     "name": "stdout",
     "output_type": "stream",
     "text": [
      "Well, Ali, I am thinking of a number between 1 and 30.\n",
      "\n",
      "! You Have only 3 Chances\n",
      "\n",
      "Take a guess.\n"
     ]
    },
    {
     "name": "stdin",
     "output_type": "stream",
     "text": [
      " 5\n"
     ]
    },
    {
     "name": "stdout",
     "output_type": "stream",
     "text": [
      "Your guess is high.\n",
      "\n",
      "Take a guess.\n"
     ]
    },
    {
     "name": "stdin",
     "output_type": "stream",
     "text": [
      " 3\n"
     ]
    },
    {
     "name": "stdout",
     "output_type": "stream",
     "text": [
      "Your guess is high.\n",
      "\n",
      "!!! Last chance\n",
      "\n",
      "Take a guess.\n"
     ]
    },
    {
     "name": "stdin",
     "output_type": "stream",
     "text": [
      " 1\n"
     ]
    },
    {
     "name": "stdout",
     "output_type": "stream",
     "text": [
      "\n",
      "Good job, Ali! You guessed my number in 3 guesses!\n"
     ]
    }
   ],
   "source": [
    "import random\n",
    "\n",
    "guessesTaken = 0\n",
    "totalChances = 3\n",
    "\n",
    "print('Hello! What is your name?')\n",
    "\n",
    "myName = input()\n",
    "number = random.randint(1, 30)\n",
    "\n",
    "print('Well, ' + myName + ', I am thinking of a number between 1 and 30.\\n')\n",
    "print('! You Have only 3 Chances\\n')\n",
    "\n",
    "while guessesTaken < totalChances: \n",
    "    print('Take a guess.')\n",
    "    guess = input()\n",
    "    guess = int(guess)\n",
    "    \n",
    "    calc =  number - guess\n",
    "    \n",
    "    #print(number, calc)\n",
    "    \n",
    "    guessesTaken = guessesTaken + 1\n",
    "    \n",
    "    if guess < number:\n",
    "        if calc > 5:\n",
    "            if calc > 10:\n",
    "                print('Your guess is too low.\\n')\n",
    "            else:\n",
    "                print('Your guess is high.\\n')\n",
    "        else:\n",
    "            print('Your guess is low.\\n')\n",
    "    \n",
    "    if guess > number:\n",
    "        if calc < -5:\n",
    "            if calc < -10:\n",
    "                print('Your guess is too high.\\n')\n",
    "            else:\n",
    "                print('Your guess is high.\\n')\n",
    "        else:\n",
    "            print('Your guess is high.\\n')\n",
    "\n",
    "    if guess == number:\n",
    "        break\n",
    "        \n",
    "    if (totalChances - guessesTaken) == 1 :\n",
    "        print(\"!!! Last chance\\n\")\n",
    "        \n",
    "if guess == number:\n",
    "    guessesTaken = str(guessesTaken)\n",
    "    print('\\nGood job, ' + myName + '! You guessed my number in ' + guessesTaken + ' guesses!')\n",
    "\n",
    "if guess != number:\n",
    "    number = str(number)\n",
    "    print('\\nYou Loose! The number I was thinking of was ' + number)"
   ]
  },
  {
   "cell_type": "code",
   "execution_count": null,
   "metadata": {},
   "outputs": [],
   "source": []
  },
  {
   "cell_type": "code",
   "execution_count": null,
   "metadata": {},
   "outputs": [],
   "source": []
  }
 ],
 "metadata": {
  "kernelspec": {
   "display_name": "Python 3",
   "language": "python",
   "name": "python3"
  },
  "language_info": {
   "codemirror_mode": {
    "name": "ipython",
    "version": 3
   },
   "file_extension": ".py",
   "mimetype": "text/x-python",
   "name": "python",
   "nbconvert_exporter": "python",
   "pygments_lexer": "ipython3",
   "version": "3.7.3"
  }
 },
 "nbformat": 4,
 "nbformat_minor": 4
}
