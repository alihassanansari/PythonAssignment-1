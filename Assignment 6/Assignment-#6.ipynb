{
 "cells": [
  {
   "cell_type": "code",
   "execution_count": 1,
   "metadata": {},
   "outputs": [
    {
     "name": "stdout",
     "output_type": "stream",
     "text": [
      "Object-oriented programming (OOP) refers to a type of computer programming (software design) in which programmers define not only the data type of a data structure, but also the types of operations (functions) that can be applied to the data structure\n"
     ]
    }
   ],
   "source": [
    "print(\"Object-oriented programming (OOP) refers to a type of computer programming (software design) in which programmers define not only the data type of a data structure, but also the types of operations (functions) that can be applied to the data structure\")"
   ]
  },
  {
   "cell_type": "code",
   "execution_count": 2,
   "metadata": {},
   "outputs": [
    {
     "name": "stdout",
     "output_type": "stream",
     "text": [
      "There are many benefits of OOP but these are major benefits\n",
      "1. Modularity for easier troubleshooting\n",
      "2. Reuse of code through inheritance\n",
      "3. Flexibility through polymorphism\n",
      "4. Effective problem solving\n"
     ]
    }
   ],
   "source": [
    "print(\"There are many benefits of OOP but these are major benefits\")\n",
    "print (\"1 - Modularity for easier troubleshooting\")\n",
    "print (\"2 - Reuse of code through inheritance\")\n",
    "print (\"3 - Flexibility through polymorphism\")\n",
    "print (\"4 - Effective problem solving\")"
   ]
  },
  {
   "cell_type": "code",
   "execution_count": 9,
   "metadata": {},
   "outputs": [
    {
     "name": "stdout",
     "output_type": "stream",
     "text": [
      "Differentiate between function and method? \n",
      "\n",
      "1 - Function --\n",
      "    A function is a piece of code that is called by name. It can be passed data to operate on (i.e. the parameters) and can optionally return data (the return value). All data that is passed to a function is explicitly passed \n",
      "\n",
      "2 - Method --\n",
      "    A method is a piece of code that is called by a name that is associated with an object.\n"
     ]
    }
   ],
   "source": [
    "print(\"Differentiate between function and method? \\n\")\n",
    "print(\"1 - Function --\")\n",
    "print(\"    A function is a piece of code that is called by name. It can be passed data to operate on (i.e. the parameters) and can optionally return data (the return value). All data that is passed to a function is explicitly passed \\n\")\n",
    "print(\"2 - Method --\")\n",
    "print (\"    A method is a piece of code that is called by a name that is associated with an object.\")"
   ]
  },
  {
   "cell_type": "code",
   "execution_count": 11,
   "metadata": {},
   "outputs": [
    {
     "name": "stdout",
     "output_type": "stream",
     "text": [
      "Define the following terms? \n",
      "\n",
      "1 - Class --\n",
      "    In object-oriented programming, a class is an extensible program-code-template for creating objects, providing initial values for state (member variables) and implementations of behavior (member functions or methods).\n",
      "\n",
      "2 - Method --\n",
      "   Object-oriented programming (OOP) is a programming paradigm based on the concept of 'objects', which can contain data, in the form of fields (often known as attributes or properties), and code, in the form of procedures (often known as methods).\n",
      "\n",
      "2 - Object --\n",
      "In Object-oriented programming(OOP), classes and objects have attributes. Attributes are data stored inside a class or instance and represent the state or quality of the class or instance. In short, attributes store information about the instance.\n",
      "\n",
      "2 - Attribute --\n",
      "A class's behavior determines how an instance of that class operates; for example, how it will 'react' if asked to do something by another class or object or if its internal state changes. Behavior is the only way objects can do anything to themselves or have anything done to them.\n",
      "\n"
     ]
    }
   ],
   "source": [
    "print(\"Define the following terms? \\n\")\n",
    "print(\"1 - Class --\")\n",
    "print(\"    In object-oriented programming, a class is an extensible program-code-template for creating objects, providing initial values for state (member variables) and implementations of behavior (member functions or methods).\\n\")\n",
    "print(\"2 - Method --\")\n",
    "print (\"   Object-oriented programming (OOP) is a programming paradigm based on the concept of 'objects', which can contain data, in the form of fields (often known as attributes or properties), and code, in the form of procedures (often known as methods).\\n\")\n",
    "print(\"2 - Object --\")\n",
    "print (\"In Object-oriented programming(OOP), classes and objects have attributes. Attributes are data stored inside a class or instance and represent the state or quality of the class or instance. In short, attributes store information about the instance.\\n\")\n",
    "print(\"2 - Attribute --\")\n",
    "print (\"A class's behavior determines how an instance of that class operates; for example, how it will 'react' if asked to do something by another class or object or if its internal state changes. Behavior is the only way objects can do anything to themselves or have anything done to them.\\n\")"
   ]
  },
  {
   "cell_type": "code",
   "execution_count": 16,
   "metadata": {},
   "outputs": [
    {
     "name": "stdout",
     "output_type": "stream",
     "text": [
      "Car 1 State : \n",
      "Engine started\n",
      "Engine switched off\n",
      "Car has 20% fuel left\n",
      "2012\n",
      "red\n",
      "c360\n",
      "nisan\n",
      "1200\n",
      "\n",
      "\n",
      "Car 2 State : \n",
      "Engine started\n",
      "Engine switched off\n",
      "Car has 20% fuel left\n",
      "2012\n",
      "red\n",
      "c360\n",
      "nisan\n",
      "1200\n",
      "\n",
      "\n",
      "Car 3 State : \n",
      "Engine started\n",
      "Engine switched off\n",
      "Car has 20% fuel left\n",
      "2012\n",
      "red\n",
      "c360\n",
      "nisan\n",
      "1200\n",
      "\n",
      "\n",
      "Car 4 State : \n",
      "Engine started\n",
      "Engine switched off\n",
      "Car has 20% fuel left\n",
      "2012\n",
      "red\n",
      "c360\n",
      "nisan\n",
      "1200\n",
      "\n",
      "\n",
      "Car 5 State : \n",
      "Engine started\n",
      "Engine switched off\n",
      "Car has 20% fuel left\n",
      "2012\n",
      "red\n",
      "c360\n",
      "nisan\n",
      "1200\n",
      "\n",
      "\n"
     ]
    }
   ],
   "source": [
    "# Creates class Car\n",
    "class Car:\n",
    "\n",
    "    # create class attributes\n",
    "    model = 2012\n",
    "    color = \"red\"\n",
    "    name = \"c360\"\n",
    "    make = \"nisan\"\n",
    "    power = 1200\n",
    "    \n",
    "\n",
    "    # create class methods\n",
    "    def start(self):\n",
    "        print (\"Engine started\")\n",
    "\n",
    "    def stop(self):\n",
    "        print (\"Engine switched off\")\n",
    "        \n",
    "    def fuel(self):\n",
    "        print (\"Car has 20% fuel left\")\n",
    "        \n",
    "    def state(self):\n",
    "        self.start()\n",
    "        self.stop()\n",
    "        self.fuel()\n",
    "        print(self.model)\n",
    "        print(self.color)\n",
    "        print(self.name)\n",
    "        print(self.make)\n",
    "        print(self.power)\n",
    "        print(\"\\n\")\n",
    "        \n",
    "\n",
    "car_1 = Car()\n",
    "print(\"Car 1 State : \")\n",
    "car_1.state()\n",
    "\n",
    "car_2 = Car()\n",
    "print(\"Car 2 State : \")\n",
    "car_1.state()\n",
    "\n",
    "car_3 = Car()\n",
    "print(\"Car 3 State : \")\n",
    "car_1.state()\n",
    "\n",
    "car_4 = Car()\n",
    "print(\"Car 4 State : \")\n",
    "car_1.state()\n",
    "\n",
    "car_5 = Car()\n",
    "print(\"Car 5 State : \")\n",
    "car_1.state()"
   ]
  },
  {
   "cell_type": "code",
   "execution_count": null,
   "metadata": {},
   "outputs": [],
   "source": []
  }
 ],
 "metadata": {
  "kernelspec": {
   "display_name": "Python 3",
   "language": "python",
   "name": "python3"
  },
  "language_info": {
   "codemirror_mode": {
    "name": "ipython",
    "version": 3
   },
   "file_extension": ".py",
   "mimetype": "text/x-python",
   "name": "python",
   "nbconvert_exporter": "python",
   "pygments_lexer": "ipython3",
   "version": "3.7.3"
  }
 },
 "nbformat": 4,
 "nbformat_minor": 4
}
