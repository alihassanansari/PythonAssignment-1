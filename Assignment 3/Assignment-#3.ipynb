{
 "cells": [
  {
   "cell_type": "code",
   "execution_count": 2,
   "metadata": {},
   "outputs": [
    {
     "name": "stdout",
     "output_type": "stream",
     "text": [
      "Select Operation.\n",
      "1. Do Add\n",
      "2. Do Subtract\n",
      "3. Do Multiply\n",
      "4. Do Divide\n"
     ]
    },
    {
     "name": "stdin",
     "output_type": "stream",
     "text": [
      "Enter Your Choice(1/2/3/4):  2\n",
      "Enter First Number:  5\n",
      "Enter Second Number:  2\n"
     ]
    },
    {
     "name": "stdout",
     "output_type": "stream",
     "text": [
      "5.0 - 2.0 = 3.0\n"
     ]
    }
   ],
   "source": [
    "# 1. Make a calculator using Python with addition , subtraction , multiplication , division and power.\n",
    "\n",
    "print(\"Select Operation.\")\n",
    "print(\"1. Do Add\")\n",
    "print(\"2. Do Subtract\")\n",
    "print(\"3. Do Multiply\")\n",
    "print(\"4. Do Divide\")\n",
    "\n",
    "Opr = int(input(\"Enter Your Choice(1/2/3/4): \"))\n",
    "n1 = float(input(\"Enter First Number: \"))\n",
    "n2 = float(input(\"Enter Second Number: \"))\n",
    "\n",
    "if Opr == 1:\n",
    "   print(n1,\"+\",n2,\"=\", (n1 + n2))\n",
    "elif Opr == 2:\n",
    "   print(n1,\"-\",n2,\"=\", (n1 - n2))\n",
    "elif Opr == 3:\n",
    "   print(n1,\"*\",n2,\"=\", (n1 * n2))\n",
    "elif Opr == 4:\n",
    "   print(n1,\"/\",n2,\"=\", (n1 / n2))\n",
    "else:\n",
    "   print(\"Input Error\")\n"
   ]
  },
  {
   "cell_type": "code",
   "execution_count": 3,
   "metadata": {},
   "outputs": [
    {
     "name": "stdout",
     "output_type": "stream",
     "text": [
      "True\n",
      "True\n",
      "False\n",
      "True\n",
      "False\n",
      "False\n"
     ]
    }
   ],
   "source": [
    "# 2. Write a program to check if there is any numeric value in list using for loop\n",
    "\n",
    "random_list = ['15864', '1', 'qwrt', '56', 'python', 'valid']\n",
    "\n",
    "for number in random_list:\n",
    "    print(number.isnumeric())"
   ]
  },
  {
   "cell_type": "code",
   "execution_count": 9,
   "metadata": {},
   "outputs": [
    {
     "name": "stdout",
     "output_type": "stream",
     "text": [
      "{'One': 1, 'Two': 2, 'Three': '3'}\n",
      "\n",
      "\n"
     ]
    },
    {
     "name": "stdin",
     "output_type": "stream",
     "text": [
      "Enter Key Name  :  Three\n",
      "Enter Key Value :  3\n"
     ]
    },
    {
     "name": "stdout",
     "output_type": "stream",
     "text": [
      "\n",
      "\n",
      "Dictionary Updated : \n",
      "{'One': 1, 'Two': 2, 'Three': '3'}\n"
     ]
    }
   ],
   "source": [
    "# 3. Write a Python script to add a key to a dictionary\n",
    "\n",
    "print(dicr)\n",
    "print(\"\\n\")\n",
    "\n",
    "k = input(\"Enter Key Name  : \")\n",
    "v = input(\"Enter Key Value : \")\n",
    "dicr = {'One': 1, 'Two': 2}\n",
    "\n",
    "dicr[k] = v\n",
    "print(\"\\n\")\n",
    "print(\"Dictionary Updated : \")\n",
    "print(dicr)"
   ]
  },
  {
   "cell_type": "code",
   "execution_count": 11,
   "metadata": {},
   "outputs": [
    {
     "name": "stdout",
     "output_type": "stream",
     "text": [
      "Duplicate Values :\n",
      "{1, 2, 5, 6}\n"
     ]
    }
   ],
   "source": [
    "# 5. Write a program to identify duplicate values from list\n",
    "\n",
    "seq = [1,2,3,2,1,5,6,5,5,6]\n",
    "seen = set()\n",
    "seen_add = seen.add\n",
    "seen_twice = set( x for x in seq if x in seen or seen_add(x) )\n",
    "\n",
    "print(\"Duplicate Values :\")\n",
    "print(seen_twice)"
   ]
  },
  {
   "cell_type": "code",
   "execution_count": 23,
   "metadata": {},
   "outputs": [
    {
     "name": "stdin",
     "output_type": "stream",
     "text": [
      "Type your Number 5\n"
     ]
    },
    {
     "name": "stdout",
     "output_type": "stream",
     "text": [
      "Key is present in the dictionary\n",
      "Key Value is : 50\n"
     ]
    }
   ],
   "source": [
    "# 6. Write a Python script to check if a given key already exists in a dictionary\n",
    "\n",
    "d = {1: 10, 2: 20, 3: 30, 4: 40, 5: 50, 6: 60}\n",
    "x = int(input(\"Type your Number\"))\n",
    "if x in d:\n",
    "    print('Key is present in the dictionary')\n",
    "    print('Key Value is : %d' %(d[x]))\n",
    "else:\n",
    "      print('Key is not present in the dictionary')"
   ]
  },
  {
   "cell_type": "code",
   "execution_count": null,
   "metadata": {},
   "outputs": [],
   "source": []
  }
 ],
 "metadata": {
  "kernelspec": {
   "display_name": "Python 3",
   "language": "python",
   "name": "python3"
  },
  "language_info": {
   "codemirror_mode": {
    "name": "ipython",
    "version": 3
   },
   "file_extension": ".py",
   "mimetype": "text/x-python",
   "name": "python",
   "nbconvert_exporter": "python",
   "pygments_lexer": "ipython3",
   "version": "3.7.3"
  }
 },
 "nbformat": 4,
 "nbformat_minor": 4
}
