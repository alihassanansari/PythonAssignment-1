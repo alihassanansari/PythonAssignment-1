{
 "cells": [
  {
   "cell_type": "code",
   "execution_count": null,
   "metadata": {},
   "outputs": [],
   "source": [
    "#--- 1. Print Poem  ---#\n",
    "\n",
    "line = []\n",
    "line.append(\"Twinkle, twinkle, little star,\")\n",
    "line.append(\"\\tHow I wonder what you are!\")\n",
    "line.append(\"\\t\\tUp above the world so high,\")\n",
    "line.append(\"\\t\\tLike a diamond in the sky.\")\n",
    "line.append(\"Twinkle, twinkle, little star,\")\n",
    "line.append(\"\\tHow I wonder what you are\")\n",
    "print (line[0], line[1], line[2], line[3], line[4], line[5], sep=\"\\n\")"
   ]
  },
  {
   "cell_type": "code",
   "execution_count": null,
   "metadata": {},
   "outputs": [],
   "source": [
    "#--- 2. Python Version  ---#\n",
    "\n",
    "import platform\n",
    "pver = platform.python_version()\n",
    "print(\"Your Python version is = \" + pver)"
   ]
  },
  {
   "cell_type": "code",
   "execution_count": null,
   "metadata": {},
   "outputs": [],
   "source": [
    "#--- 3. Date Time Clock  ---#\n",
    "\n",
    "import time\n",
    "import datetime\n",
    "\n",
    "while True:\n",
    "    \n",
    "    date_now = \"Date : \" + datetime.datetime.now().strftime(\"%A, %d-%B-%Y\")\n",
    "    time_now = \"Time : \" + datetime.datetime.now().strftime(\"%I:%M:%S %p\")\n",
    "    \n",
    "    print(date_now + \"\\t --- \" + time_now, end=\"\\r\", flush=True)\n",
    "    \n",
    "    time.sleep(1)"
   ]
  },
  {
   "cell_type": "code",
   "execution_count": null,
   "metadata": {},
   "outputs": [],
   "source": [
    "#--- 4. Area Calculator  ---#\n",
    "\n",
    "print(\"-- Welcome Radius to Area converter -- \\n\")\n",
    "\n",
    "pi = 3.14159265359\n",
    "radius = float(input(' Please Enter the Radius of a Circle: '))\n",
    "area = pi * radius * radius\n",
    "circumference = 2 * pi * radius\n",
    "\n",
    "print(\"\\n\")\n",
    "print(\" Area Of a Circle = %.2f\" %area,)\n",
    "print(\" Circumference Of a Circle = %.2f\" %circumference)"
   ]
  },
  {
   "cell_type": "code",
   "execution_count": null,
   "metadata": {},
   "outputs": [],
   "source": [
    "#--- 5. Name Reversal  ---#\n",
    "\n",
    "firstName = input('Please Enter Your First Name : ')\n",
    "lastName = input('Please Enter Your Last Name : ')\n",
    "\n",
    "print( lastName + \" \" + firstName)"
   ]
  },
  {
   "cell_type": "code",
   "execution_count": null,
   "metadata": {},
   "outputs": [],
   "source": [
    "#--- 6. Two Value Addition  ---#\n",
    "\n",
    "input1 = int(input('Please First Number : '))\n",
    "input2 = int(input('Please Second Number : '))\n",
    "total = input1 + input2\n",
    "\n",
    "print(\"Your Total is %.2f\" %total)"
   ]
  }
 ],
 "metadata": {
  "kernelspec": {
   "display_name": "Python 3",
   "language": "python",
   "name": "python3"
  },
  "language_info": {
   "codemirror_mode": {
    "name": "ipython",
    "version": 3
   },
   "file_extension": ".py",
   "mimetype": "text/x-python",
   "name": "python",
   "nbconvert_exporter": "python",
   "pygments_lexer": "ipython3",
   "version": "3.7.3"
  }
 },
 "nbformat": 4,
 "nbformat_minor": 4
}
