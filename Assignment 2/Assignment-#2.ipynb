{
 "cells": [
  {
   "cell_type": "code",
   "execution_count": 2,
   "metadata": {},
   "outputs": [
    {
     "name": "stdout",
     "output_type": "stream",
     "text": [
      "Enter marks obtained in 5 subjects\n"
     ]
    },
    {
     "name": "stdin",
     "output_type": "stream",
     "text": [
      "Subject 1 : 87\n",
      "Subject 2 : 56\n",
      "Subject 3 : 87\n",
      "Subject 4 : 65\n",
      "Subject 5 : 45\n"
     ]
    },
    {
     "name": "stdout",
     "output_type": "stream",
     "text": [
      "Your Grade is B\n"
     ]
    }
   ],
   "source": [
    "# 1. Python program to Calculate Grade in 5 Subjects\n",
    "\n",
    "print(\"Enter marks obtained in 5 subjects\")\n",
    "\n",
    "sub1 = int(input(\"Subject 1 :\"))\n",
    "sub2 = int(input(\"Subject 2 :\"))\n",
    "sub3 = int(input(\"Subject 3 :\"))\n",
    "sub4 = int(input(\"Subject 4 :\"))\n",
    "sub5 = int(input(\"Subject 5 :\"))\n",
    "    \n",
    "ttl = sub5 + sub4 + sub3 + sub2 + sub1\n",
    "avr = t/5\n",
    "\n",
    "if(avr>=91 and average<=100):\n",
    "    print(\"Your Grade is A+\");\n",
    "elif(avr>=81 and average<=90):\n",
    "    print(\"Your Grade is A\");\n",
    "elif(avr>=71 and average<=80):\n",
    "    print(\"Your Grade is B+\");\n",
    "elif(avr>=61 and average<=70):\n",
    "    print(\"Your Grade is B\");\n",
    "elif(avr>=51 and average<=60):\n",
    "    print(\"Your Grade is C+\");\n",
    "elif(avr>=41 and average<=50):\n",
    "    print(\"Your Grade is C\");\n",
    "elif(average>=0 and average<=40):\n",
    "    print(\"Your Grade is F\")\n",
    "else:\n",
    "    print(\"Your Grade Unknown..!!\")"
   ]
  },
  {
   "cell_type": "code",
   "execution_count": 11,
   "metadata": {},
   "outputs": [
    {
     "name": "stdout",
     "output_type": "stream",
     "text": [
      "Enter number to detect even or odd\n"
     ]
    },
    {
     "name": "stdin",
     "output_type": "stream",
     "text": [
      "Enter a number:  1125\n"
     ]
    },
    {
     "name": "stdout",
     "output_type": "stream",
     "text": [
      "Your 1125 is Odd\n"
     ]
    }
   ],
   "source": [
    "# 2. Python program to Detect even or odd\n",
    "print(\"Enter number to detect even or odd\")\n",
    "\n",
    "number = int(input(\"Enter a number: \"))\n",
    "\n",
    "if (number % 2) == 0:\n",
    "   print(\"Your {0} is Even\" .format(number))\n",
    "else:\n",
    "   print(\"Your {0} is Odd\" .format(number))"
   ]
  },
  {
   "cell_type": "code",
   "execution_count": 16,
   "metadata": {},
   "outputs": [
    {
     "name": "stdout",
     "output_type": "stream",
     "text": [
      "Lenght of the list : 5\n"
     ]
    }
   ],
   "source": [
    "# 3. Python program to Print the length of the list\n",
    "\n",
    "List = [\"one\",\"two\",\"three\",\"four\",\"five\"]\n",
    "print(\"Lenght of the list : {0}\".format(len(List)))"
   ]
  },
  {
   "cell_type": "code",
   "execution_count": 4,
   "metadata": {},
   "outputs": [
    {
     "name": "stdout",
     "output_type": "stream",
     "text": [
      "25\n"
     ]
    }
   ],
   "source": [
    "# 4. Python program to sum all the numeric items in a list\n",
    "a = [1,2,3,4,5,1,4,5] \n",
    "\n",
    "print(\"Sum of all is : {0}\".format(sum(a)))"
   ]
  },
  {
   "cell_type": "code",
   "execution_count": 18,
   "metadata": {},
   "outputs": [
    {
     "name": "stdout",
     "output_type": "stream",
     "text": [
      "Largest number in list is: 8904\n"
     ]
    }
   ],
   "source": [
    "# 5. Python program to find largest in a list\n",
    "\n",
    "a = [8134, 7630, 8904, 6587, 3453] \n",
    "\n",
    "print(\"Largest number in list is: {0}\" .format(max(a)))"
   ]
  },
  {
   "cell_type": "code",
   "execution_count": 11,
   "metadata": {},
   "outputs": [
    {
     "name": "stdout",
     "output_type": "stream",
     "text": [
      "1\n",
      "1\n",
      "2\n",
      "3\n"
     ]
    }
   ],
   "source": [
    "# 6. Python program prints out all the elements of the list that are less than 5.\n",
    "a = [1, 1, 2, 3, 5, 8, 13, 21, 34, 55, 89]\n",
    "\n",
    "for i in a:\n",
    "    if i < 5:\n",
    "        print(i)"
   ]
  },
  {
   "cell_type": "code",
   "execution_count": null,
   "metadata": {},
   "outputs": [],
   "source": []
  }
 ],
 "metadata": {
  "kernelspec": {
   "display_name": "Python 3",
   "language": "python",
   "name": "python3"
  },
  "language_info": {
   "codemirror_mode": {
    "name": "ipython",
    "version": 3
   },
   "file_extension": ".py",
   "mimetype": "text/x-python",
   "name": "python",
   "nbconvert_exporter": "python",
   "pygments_lexer": "ipython3",
   "version": "3.7.4"
  }
 },
 "nbformat": 4,
 "nbformat_minor": 4
}
